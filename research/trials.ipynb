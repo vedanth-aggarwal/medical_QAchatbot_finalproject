{
 "cells": [
  {
   "cell_type": "code",
   "execution_count": 5,
   "metadata": {},
   "outputs": [
    {
     "name": "stdout",
     "output_type": "stream",
     "text": [
      "hello\n"
     ]
    }
   ],
   "source": [
    "print('hello')"
   ]
  },
  {
   "cell_type": "code",
   "execution_count": 2,
   "metadata": {},
   "outputs": [
    {
     "name": "stdout",
     "output_type": "stream",
     "text": [
      "0.1.16\n"
     ]
    }
   ],
   "source": [
    "#from langchain import PrompTemplate\n",
    "from langchain.chains import RetrievalQA\n",
    "from langchain.embeddings import HuggingFaceEmbeddings\n",
    "from langchain.vectorstores import Pinecone as PC\n",
    "import pinecone\n",
    "from langchain.document_loaders import PyPDFLoader,DirectoryLoader\n",
    "from langchain.text_splitter import RecursiveCharacterTextSplitter\n",
    "from langchain.prompts import PromptTemplate\n",
    "from langchain.llms import CTransformers\n",
    "import langchain\n",
    "print(langchain.__version__)\n",
    "#from langchain_pinecone import PineconeVectorStore"
   ]
  },
  {
   "cell_type": "code",
   "execution_count": 2,
   "metadata": {},
   "outputs": [],
   "source": [
    "PINECONE_API_KEY = \"ed6b1ca9-cbb9-41b7-b8b6-86f044793754\"\n",
    "PINECONE_API_ENV = 'gcp-starter'\n"
   ]
  },
  {
   "cell_type": "code",
   "execution_count": 3,
   "metadata": {},
   "outputs": [],
   "source": [
    "# Extract\n",
    "def load_pdf(data):\n",
    "    loader = DirectoryLoader(data,glob='*.pdf',loader_cls=PyPDFLoader)\n",
    "    documents = loader.load()\n",
    "    return documents"
   ]
  },
  {
   "cell_type": "code",
   "execution_count": 4,
   "metadata": {},
   "outputs": [],
   "source": [
    "extracted_data = load_pdf('data/')"
   ]
  },
  {
   "cell_type": "code",
   "execution_count": 10,
   "metadata": {},
   "outputs": [],
   "source": [
    "def text_split(extracted_data):\n",
    "    text_splitter = RecursiveCharacterTextSplitter(chunk_size=500,chunk_overlap=20)\n",
    "    text_chunks = text_splitter.split_documents(extracted_data)\n",
    "    return text_chunks\n",
    "\n",
    "text_chunks = text_split(extracted_data)"
   ]
  },
  {
   "cell_type": "code",
   "execution_count": 4,
   "metadata": {},
   "outputs": [],
   "source": [
    "def download_hf_embeddings():\n",
    "    embeddings = HuggingFaceEmbeddings(model_name='sentence-transformers/all-MiniLM-L6-v2')\n",
    "    return embeddings\n",
    "\n",
    "embeddings = download_hf_embeddings()"
   ]
  },
  {
   "cell_type": "code",
   "execution_count": 12,
   "metadata": {},
   "outputs": [
    {
     "name": "stdout",
     "output_type": "stream",
     "text": [
      "[-0.06062675267457962, 0.039964884519577026, 0.032226212322711945, 0.048891451209783554, -0.05963549017906189, -0.03785908967256546, 0.028251444920897484, 0.004900546744465828, -0.11331260204315186, -0.02029983513057232, 3.422413283260539e-05, 0.01789705827832222, 0.018761683255434036, -0.052426811307668686, 0.029521584510803223, -0.018175441771745682, 0.00871913693845272, -0.02320040576159954, -0.06915299594402313, 0.02742273546755314, -0.014862298034131527, 0.018731724470853806, -0.0228003840893507, 0.051175545901060104, -0.06328506022691727, -0.04479140788316727, 0.01012916024774313, 0.03268591687083244, -0.005297136027365923, -0.09583697468042374, 0.04735589772462845, 0.050354331731796265, 0.04973457008600235, 0.008949795737862587, 0.0032749499659985304, 0.07771863043308258, -0.09297500550746918, -0.09170224517583847, 0.0582631379365921, 0.00990992784500122, -0.038045190274715424, -0.03432802855968475, -0.007856595329940319, -0.02784900739789009, 0.03519044816493988, -0.012621409259736538, 0.040992073714733124, 0.0462159663438797, 0.08070949465036392, 0.034180980175733566, -0.05178849771618843, -0.08015695959329605, -0.035366300493478775, 0.01156514324247837, 0.09396155923604965, 0.015265945345163345, -0.012349959462881088, -0.07250303775072098, 0.021060241386294365, -0.05841480940580368, -0.05763039365410805, 0.05515491962432861, -0.08671801537275314, -0.006799520459026098, -0.0038426725659519434, -0.046901047229766846, -0.06027664616703987, -0.03376993164420128, -0.03267115727066994, -0.08209511637687683, -0.0152319660410285, 0.02527996338903904, 0.016681987792253494, 0.010993007570505142, -0.02612990513443947, -0.011190289631485939, 0.036074571311473846, -0.03451787307858467, 0.003763322252780199, 0.032188449054956436, 0.07422678917646408, -0.10349363088607788, -0.044576261192560196, 0.02779277041554451, 0.011375020258128643, -0.051788050681352615, -0.00012107812653994188, 0.050954073667526245, -0.013812147080898285, 0.008541463874280453, -0.09894084930419922, 0.027659408748149872, -0.002949923975393176, 0.005343363620340824, -0.10500777512788773, -0.02444412186741829, 0.07436124235391617, -0.004617061000317335, -0.12045329809188843, 0.21692398190498352, 0.04609670862555504, 0.07664241641759872, 0.01079204585403204, 0.028308497741818428, 0.004615452140569687, 0.00834780465811491, -0.04132260009646416, 0.033996883779764175, -0.009922747500240803, -0.0018660256173461676, 0.027108388021588326, -0.07936105877161026, -0.021216508001089096, 0.016248594969511032, 0.09238584339618683, 0.010637043043971062, 0.013636394403874874, 0.042032938450574875, 0.03237427398562431, 0.015043286606669426, 0.03156161680817604, -0.012956307269632816, 0.0017212920356541872, -0.03273485600948334, 0.030968334525823593, 0.033133700489997864, 0.0321471281349659, -5.287249795749828e-33, 0.04286190867424011, -0.021327534690499306, 0.040533196181058884, 0.16180261969566345, -0.03336511179804802, -0.020322104915976524, -0.08442311733961105, -0.06767874956130981, 0.024214811623096466, 0.04265303909778595, 0.037910621613264084, 0.03480150178074837, -0.03333195671439171, 0.05501652508974075, -0.010417020879685879, 0.1267203390598297, -0.08970562368631363, -0.004267883021384478, 0.00653822161257267, 0.05907473340630531, -0.054560963064432144, 0.006281314417719841, -0.00010551886225584894, 0.08289426565170288, 0.04447358101606369, -0.05378838628530502, 0.017514072358608246, -0.09734581410884857, 0.059028975665569305, 0.017121251672506332, -0.04931727796792984, -0.04104107618331909, 0.05475002899765968, 0.0505610816180706, -0.0016082955989986658, 0.013423721306025982, -0.012572129257023335, -0.07411836832761765, -0.045427337288856506, 0.016718709841370583, -0.018879257142543793, 0.015913017094135284, 0.03656214103102684, -0.03208952397108078, -0.00964139774441719, -0.0031991261057555676, -0.009919364005327225, 0.031663358211517334, 0.019121767953038216, 0.016327261924743652, -0.07988273352384567, 0.006091571878641844, -0.12969522178173065, 0.07819487899541855, -0.005386073142290115, -0.0043134791776537895, -0.014904270879924297, -0.07830657064914703, 0.02343541570007801, 0.007965984754264355, 0.028237726539373398, 0.11823856830596924, -0.01983637548983097, -0.04079430550336838, -0.06763187050819397, -0.05537457764148712, 0.025278830900788307, 0.011163690127432346, 0.07181929051876068, -0.03861977159976959, -0.01622449792921543, 0.00254987645894289, 0.026239825412631035, -0.00014607320190407336, 0.01512613520026207, 0.061917904764413834, -0.002336127683520317, 0.011862926185131073, 0.03418036922812462, -0.04389669746160507, 0.01848299242556095, 0.036690667271614075, -0.0363580547273159, -0.002461464609950781, 0.053920261561870575, 0.05264909192919731, -0.042325008660554886, -0.07394528388977051, -0.022695792838931084, -0.024291016161441803, -0.03895903006196022, 0.011965486221015453, 0.042106229811906815, 0.015436100773513317, -0.009303726255893707, 3.156013518177741e-33, 0.1490231603384018, 0.05690706521272659, -0.06930225342512131, -0.06397081911563873, -0.029458649456501007, 0.016306761652231216, -0.0028758009430021048, 0.12071435153484344, -0.12915487587451935, 0.004261665511876345, 0.011203723028302193, 0.005081517621874809, 0.06540589034557343, 0.0011079523246735334, 0.0053078243508934975, 0.044061947613954544, 0.11975955963134766, 0.07111994177103043, 0.003931763581931591, -0.0020517834927886724, -0.07050081342458725, 0.006956026423722506, -0.053324226289987564, 0.0023437279742211103, -0.013932802714407444, -0.00044184745638631284, 0.03455141931772232, 0.04465332627296448, -0.08800066262483597, -0.03393010422587395, 0.01770380325615406, 0.036125436425209045, 0.0223556999117136, 0.02045282907783985, 0.01437432412058115, 0.060108732432127, 0.0019548144191503525, -0.09220762550830841, 0.015191581100225449, -0.06839080899953842, -0.007657638285309076, 0.05577830970287323, 0.044517602771520615, 0.1239703893661499, -0.05986201763153076, -0.054975178092718124, -0.03531847521662712, 0.009409292601048946, -0.0771588385105133, 0.01843078061938286, -0.10571163892745972, -0.08388795703649521, 0.048004399985075, 0.005781516432762146, -0.001215822878293693, 0.03657706081867218, -0.004940449725836515, 0.028688114136457443, 0.0180007703602314, 0.002526673022657633, 0.02927100844681263, 0.10543328523635864, 0.06043782830238342, 0.11594729125499725, 0.02309827320277691, -0.007534650154411793, -0.014323601499199867, -0.008946872316300869, 0.01609952375292778, -0.02025669999420643, 0.012610812671482563, 0.006963003892451525, -0.021887281909585, 0.03693188354372978, -0.021265026181936264, -0.00900206808000803, 0.017507238313555717, -0.03573458641767502, -0.021257854998111725, 0.037916406989097595, -0.019998757168650627, 0.08126060664653778, 0.003060458227992058, -0.01000635139644146, 0.01933448761701584, 0.01208449061959982, 0.05653250217437744, 0.03235013782978058, -0.012662213295698166, -0.03330032527446747, 0.0156874917447567, 0.04826469346880913, -0.01392265036702156, 0.000836318067740649, -0.03356637805700302, -1.7430977550247917e-08, -0.01535737980157137, 0.008691809140145779, -0.005853001959621906, 0.06636650860309601, 0.04410695284605026, 0.0007423187489621341, -0.12307009100914001, -0.026625314727425575, -0.042757537215948105, -0.029000140726566315, 0.05828636512160301, 0.09232733398675919, -0.10259482264518738, 0.003592295106500387, 0.1045960783958435, 0.0897253230214119, -0.046032167971134186, 0.012232821434736252, -0.04895219951868057, -0.08820414543151855, 0.003606335958465934, 0.01737597957253456, -0.0003171198768541217, -0.0819094181060791, 0.006240579299628735, -0.04076959937810898, -0.03043459728360176, -0.027091676369309425, -0.0023031325545161963, 0.007042789366096258, 0.011234010569751263, 0.17696870863437653, -0.03897450491786003, 0.012175710871815681, -0.03189752623438835, -0.06547671556472778, 0.009799664840102196, 0.030594846233725548, 0.06007939577102661, -0.02171356789767742, -0.07669174671173096, 0.001576326903887093, -0.024440938606858253, -0.11330046504735947, -0.04155564308166504, 0.040322195738554, 0.04185233265161514, -0.06607232987880707, 0.002178929978981614, -0.08875719457864761, -0.028063785284757614, 0.04976978898048401, 0.07761367410421371, 0.055187515914440155, 0.08816491067409515, 0.0855398178100586, 0.031694453209638596, -0.025365158915519714, -0.02195136249065399, 0.01713370345532894, 0.050163913518190384, 0.041065581142902374, 0.020828552544116974, 0.010376178659498692] 384\n"
     ]
    }
   ],
   "source": [
    "query_result = embeddings.embed_query('Hello!')\n",
    "print(query_result,len(query_result))"
   ]
  },
  {
   "cell_type": "code",
   "execution_count": 16,
   "metadata": {},
   "outputs": [],
   "source": [
    "from pinecone import Pinecone, ServerlessSpec\n",
    "import os\n",
    "\n",
    "pc = Pinecone(api_key=PINECONE_API_KEY)\n",
    "from langchain_pinecone import PineconeVectorStore\n",
    "\n",
    "index_name = \"medical-chatbot\"\n",
    "index = pc.Index('medical-chatbot')\n",
    "\n",
    "os.environ['PINECONE_API_KEY'] = 'ed6b1ca9-cbb9-41b7-b8b6-86f044793754'\n",
    "docsearch = PineconeVectorStore.from_texts(\n",
    "        [t.page_content for t in text_chunks],\n",
    "        index_name=index_name,\n",
    "        embedding=embeddings)"
   ]
  },
  {
   "cell_type": "code",
   "execution_count": 5,
   "metadata": {},
   "outputs": [],
   "source": [
    "from langchain_pinecone import PineconeVectorStore\n",
    "import os\n",
    "index_name = \"medical-chatbot\"\n",
    "os.environ['PINECONE_API_KEY'] = 'ed6b1ca9-cbb9-41b7-b8b6-86f044793754'\n",
    "docsearch = PineconeVectorStore.from_existing_index(index_name,embeddings)"
   ]
  },
  {
   "cell_type": "code",
   "execution_count": 21,
   "metadata": {},
   "outputs": [
    {
     "name": "stdout",
     "output_type": "stream",
     "text": [
      "[Document(page_content=\"GALE ENCYCLOPEDIA OF MEDICINE 2 117Allergies\\nAllergic rhinitis is commonly triggered by\\nexposure to household dust, animal fur,or pollen. The foreign substance thattriggers an allergic reaction is calledan allergen.\\nThe presence of an allergen causes the\\nbody's lymphocytes to begin producingIgE antibodies. The lymphocytes of an allergy sufferer produce an unusuallylarge amount of IgE.\\nIgE molecules attach to mast\\ncells, which contain histamine.HistaminePollen grains\\nLymphocyte\\nFIRST EXPOSURE\"), Document(page_content='the itchy, scratchy nose, eyes, and throat common inallergic rhinitis .\\nThe particular allergens to which a person is sensi-'), Document(page_content='allergens are the following:\\n• plant pollens\\n• animal fur and dander\\n• body parts from house mites (microscopic creatures\\nfound in all houses)\\n• house dust• mold spores• cigarette smoke• solvents• cleaners\\nCommon food allergens include the following:\\n• nuts, especially peanuts, walnuts, and brazil nuts\\n• fish, mollusks, and shellfish• eggs• wheat• milk• food additives and preservatives\\nThe following types of drugs commonly cause aller-\\ngic reactions:\\n• penicillin or other antibiotics')]\n"
     ]
    }
   ],
   "source": [
    "query = 'What are allergies ?'\n",
    "docs = docsearch.similarity_search(query,k=3)\n",
    "print(docs)"
   ]
  },
  {
   "cell_type": "code",
   "execution_count": 7,
   "metadata": {},
   "outputs": [],
   "source": [
    "prompt_template=\"\"\"\n",
    "Use the following pieces of information to answer the user's question.\n",
    "If you don't know the answer, just say that you don't know, don't try to make up an answer.\n",
    "\n",
    "Context: {context}\n",
    "Question: {question}\n",
    "\n",
    "Only return the helpful answer below and nothing else.\n",
    "Helpful answer:\n",
    "\"\"\"\n",
    "\n",
    "PROMPT=PromptTemplate(template=prompt_template, input_variables=[\"context\", \"question\"])\n",
    "chain_type_kwargs={\"prompt\": PROMPT}"
   ]
  },
  {
   "cell_type": "code",
   "execution_count": 8,
   "metadata": {},
   "outputs": [],
   "source": [
    "llm=CTransformers(model=\"model/llama-2-7b-chat.ggmlv3.q4_0.bin\",\n",
    "                  model_type=\"llama\",\n",
    "                  config={'max_new_tokens':512,\n",
    "                          'temperature':0.8})"
   ]
  },
  {
   "cell_type": "code",
   "execution_count": 13,
   "metadata": {},
   "outputs": [],
   "source": [
    "\n",
    "qa=RetrievalQA.from_chain_type(\n",
    "    llm=llm, \n",
    "    chain_type=\"stuff\", \n",
    "    retriever=docsearch.as_retriever(search_kwargs={'k': 2}),\n",
    "    return_source_documents=True, \n",
    "    chain_type_kwargs=chain_type_kwargs)"
   ]
  },
  {
   "cell_type": "code",
   "execution_count": 14,
   "metadata": {},
   "outputs": [
    {
     "name": "stdout",
     "output_type": "stream",
     "text": [
      "Response :  It depends on the severity of the acne. For mild to moderately severe acne, lotions, soaps, gels, and creams containing benzoyl peroxide or tretinoin may be used to clear up the acne. Isotretinoin (Accutane) is prescribed only for very severe, disfiguring acne.\n"
     ]
    }
   ],
   "source": [
    "user_input=input(f\"Input Prompt:\")\n",
    "result=qa({\"query\": user_input})\n",
    "print(\"Response : \", result[\"result\"])\n",
    "# https://docs.langflow.org/components/chains"
   ]
  }
 ],
 "metadata": {
  "kernelspec": {
   "display_name": "mchatbot",
   "language": "python",
   "name": "python3"
  },
  "language_info": {
   "codemirror_mode": {
    "name": "ipython",
    "version": 3
   },
   "file_extension": ".py",
   "mimetype": "text/x-python",
   "name": "python",
   "nbconvert_exporter": "python",
   "pygments_lexer": "ipython3",
   "version": "3.12.3"
  }
 },
 "nbformat": 4,
 "nbformat_minor": 2
}
